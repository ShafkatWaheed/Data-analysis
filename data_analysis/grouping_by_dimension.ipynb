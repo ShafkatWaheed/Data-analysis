{
 "cells": [
  {
   "cell_type": "code",
   "execution_count": null,
   "metadata": {
    "collapsed": false,
    "scrolled": true
   },
   "outputs": [],
   "source": [
    "%matplotlib inline\n",
    "import numpy as np\n",
    "import pandas as pd\n",
    "from matplotlib import pyplot as plt\n",
    "\n",
    "file_ = 'twitter.sqlite3'\n",
    "users = pd.read_sql_table('users', 'sqlite:///{}'.format(file_))\n",
    "\n",
    "users.tail()"
   ]
  },
  {
   "cell_type": "code",
   "execution_count": null,
   "metadata": {
    "collapsed": false,
    "scrolled": true
   },
   "outputs": [],
   "source": [
    "plt.scatter(users.listed_count, users.followers_count)"
   ]
  },
  {
   "cell_type": "code",
   "execution_count": null,
   "metadata": {
    "collapsed": false,
    "scrolled": true
   },
   "outputs": [],
   "source": [
    "users['log_followers'] = users.followers_count.apply(np.log)\n",
    "users['log_listed'] = users.listed_count.apply(np.log)\n",
    "plt.scatter(users.log_followers, users.log_listed)"
   ]
  },
  {
   "cell_type": "code",
   "execution_count": null,
   "metadata": {
    "collapsed": false
   },
   "outputs": [],
   "source": [
    "users.log_listed.replace(-np.inf, 0, inplace=True)\n",
    "users.log_followers.replace(-np.inf, 0, inplace=True)"
   ]
  },
  {
   "cell_type": "code",
   "execution_count": null,
   "metadata": {
    "collapsed": false
   },
   "outputs": [],
   "source": [
    "fit_me = users[['log_followers', 'log_listed']]\n",
    "from scipy import cluster\n",
    "whiten = cluster.vq.whiten(fit_me)\n",
    "centroids, labels = cluster.vq.kmeans2(whiten, 2)\n",
    "\n",
    "plt.scatter(users.log_followers, users.log_listed, c=labels)"
   ]
  },
  {
   "cell_type": "code",
   "execution_count": null,
   "metadata": {
    "collapsed": true
   },
   "outputs": [],
   "source": [
    "users['log_friends'] = users.friends_count.apply(np.log)\n",
    "users.log_friends.replace(-np.inf, 0, inplace=True)\n",
    "fit_me_extended = users[['log_followers', 'log_friends', 'log_listed']]"
   ]
  },
  {
   "cell_type": "code",
   "execution_count": null,
   "metadata": {
    "collapsed": true
   },
   "outputs": [],
   "source": [
    "whiten = cluster.vq.whiten(fit_me_extended)\n",
    "centroids, labels = cluster.vq.kmeans2(whiten, 2)"
   ]
  },
  {
   "cell_type": "code",
   "execution_count": null,
   "metadata": {
    "collapsed": false
   },
   "outputs": [],
   "source": [
    "from mpl_toolkits.mplot3d import Axes3D\n",
    "\n",
    "fig = plt.figure()\n",
    "ax = fig.add_subplot(111, projection='3d')\n",
    "ax.set_xlabel('Followers')\n",
    "ax.set_ylabel('Friends')\n",
    "ax.set_zlabel('Lists')\n",
    "ax.scatter3D(users.log_followers, users.log_friends, users.log_listed, c=labels)"
   ]
  },
  {
   "cell_type": "code",
   "execution_count": null,
   "metadata": {
    "collapsed": true
   },
   "outputs": [],
   "source": [
    "clusters = [cluster.vq.kmeans(whiten, i) for i in range(1, 30)]\n",
    "# the return for kmeans, is centroid, distortion"
   ]
  },
  {
   "cell_type": "code",
   "execution_count": null,
   "metadata": {
    "collapsed": false,
    "scrolled": true
   },
   "outputs": [],
   "source": [
    "plt.plot([distort for (centroid, distort) in clusters])"
   ]
  },
  {
   "cell_type": "code",
   "execution_count": null,
   "metadata": {
    "collapsed": false
   },
   "outputs": [],
   "source": [
    "%matplotlib notebook\n",
    "centroid, labels = cluster.vq.kmeans2(whiten, 8)\n",
    "fig = plt.figure()\n",
    "ax = fig.add_subplot(111, projection='3d')\n",
    "ax.set_xlabel('Followers')\n",
    "ax.set_ylabel('Friends')\n",
    "ax.set_zlabel('Lists')\n",
    "ax.scatter3D(users.log_followers, users.log_friends, users.log_listed, c=labels)\n",
    "fig.show()"
   ]
  },
  {
   "cell_type": "code",
   "execution_count": null,
   "metadata": {
    "collapsed": false
   },
   "outputs": [],
   "source": [
    "centroid, labels = cluster.vq.kmeans2(whiten, 2)\n",
    "centroid"
   ]
  }
 ],
 "metadata": {
  "kernelspec": {
   "display_name": "Python 3",
   "language": "python",
   "name": "python3"
  },
  "language_info": {
   "codemirror_mode": {
    "name": "ipython",
    "version": 3
   },
   "file_extension": ".py",
   "mimetype": "text/x-python",
   "name": "python",
   "nbconvert_exporter": "python",
   "pygments_lexer": "ipython3",
   "version": "3.6.0"
  }
 },
 "nbformat": 4,
 "nbformat_minor": 2
}
